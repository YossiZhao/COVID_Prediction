{
 "cells": [
  {
   "cell_type": "code",
   "execution_count": 3,
   "id": "7a8343c8",
   "metadata": {},
   "outputs": [],
   "source": [
    "import cv2\n",
    "import numpy as np"
   ]
  },
  {
   "cell_type": "code",
   "execution_count": 23,
   "id": "fc280911",
   "metadata": {},
   "outputs": [
    {
     "name": "stdout",
     "output_type": "stream",
     "text": [
      "(1624, 1080, 3)\n"
     ]
    },
    {
     "data": {
      "text/plain": [
       "True"
      ]
     },
     "execution_count": 23,
     "metadata": {},
     "output_type": "execute_result"
    }
   ],
   "source": [
    "img = cv2.imread(\"./image.jpg\")\n",
    "image=np.array(img)\n",
    "print(img.shape)\n",
    "for i in range(img.shape[0]):\n",
    "    for j in range(img.shape[1]):\n",
    "        if image[i,j,0]>230 and image[i,j,0]<256:\n",
    "            if image[i,j,1]<256 and image[i,j,1]>230:\n",
    "                if image[i,j,2]>200 and image[i,j,2]<230:\n",
    "                    image[i,j,0]=255\n",
    "                    image[i,j,1]=255\n",
    "                    image[i,j,2]=255\n",
    "\n",
    "cv2.imwrite('result.jpg', image)"
   ]
  }
 ],
 "metadata": {
  "kernelspec": {
   "display_name": "Python 3",
   "language": "python",
   "name": "python3"
  },
  "language_info": {
   "codemirror_mode": {
    "name": "ipython",
    "version": 3
   },
   "file_extension": ".py",
   "mimetype": "text/x-python",
   "name": "python",
   "nbconvert_exporter": "python",
   "pygments_lexer": "ipython3",
   "version": "3.7.10"
  }
 },
 "nbformat": 4,
 "nbformat_minor": 5
}
